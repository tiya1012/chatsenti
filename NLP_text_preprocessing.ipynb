{
  "nbformat": 4,
  "nbformat_minor": 0,
  "metadata": {
    "colab": {
      "provenance": []
    },
    "kernelspec": {
      "name": "python3",
      "display_name": "Python 3"
    },
    "language_info": {
      "name": "python"
    }
  },
  "cells": [
    {
      "cell_type": "code",
      "execution_count": 4,
      "metadata": {
        "colab": {
          "base_uri": "https://localhost:8080/"
        },
        "id": "N3-bepxPGYCQ",
        "outputId": "062e3845-1c45-404c-ca4f-0113e89bbe6e"
      },
      "outputs": [
        {
          "output_type": "stream",
          "name": "stderr",
          "text": [
            "[nltk_data] Downloading package stopwords to /root/nltk_data...\n",
            "[nltk_data]   Package stopwords is already up-to-date!\n",
            "[nltk_data] Downloading package punkt to /root/nltk_data...\n",
            "[nltk_data]   Package punkt is already up-to-date!\n"
          ]
        }
      ],
      "source": [
        "import re\n",
        "from nltk.corpus import stopwords\n",
        "from nltk.tokenize import word_tokenize\n",
        "import nltk\n",
        "nltk.download('stopwords')\n",
        "\n",
        "import nltk\n",
        "nltk.download('punkt')\n",
        "def preprocess_text(text):\n",
        "    # Stop Word Removal\n",
        "    stop_words = set(stopwords.words('english'))\n",
        "    words = word_tokenize(text)\n",
        "    filtered_words = [word for word in words if word.lower() not in stop_words]\n",
        "\n",
        "    # Lowercasing\n",
        "    filtered_words = [word.lower() for word in filtered_words]\n",
        "\n",
        "    # Removing Punctuation\n",
        "    filtered_words = [re.sub(r'[^\\w\\s]', '', word) for word in filtered_words]\n",
        "\n",
        "    # Handling Special Characters and Numbers\n",
        "    filtered_words = [re.sub(r'[^a-zA-Z\\s]', '', word) for word in filtered_words]\n",
        "\n",
        "    # Handling Spelling and Grammar Errors (This step may require more advanced techniques or libraries)\n",
        "\n",
        "    preprocessed_text = ' '.join(filtered_words)\n",
        "    return preprocessed_text\n"
      ]
    },
    {
      "cell_type": "code",
      "source": [
        "# Example text\n",
        "input_text = \"Hello! This is an example sentence, with some common words and special characters like 123.\"\n",
        "preprocessed_text = preprocess_text(input_text)\n",
        "print(preprocessed_text)"
      ],
      "metadata": {
        "colab": {
          "base_uri": "https://localhost:8080/"
        },
        "id": "MJl9oE4LGq27",
        "outputId": "881a32bf-f111-4eb6-8257-a9a912a29587"
      },
      "execution_count": 5,
      "outputs": [
        {
          "output_type": "stream",
          "name": "stdout",
          "text": [
            "hello  example sentence  common words special characters like  \n"
          ]
        }
      ]
    }
  ]
}